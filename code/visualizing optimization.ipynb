{
 "cells": [
  {
   "cell_type": "code",
   "execution_count": null,
   "id": "bdb1873d",
   "metadata": {},
   "outputs": [],
   "source": [
    "import numpy as np\n",
    "import matplotlib.pyplot as plt\n",
    "from skopt import Optimizer\n",
    "from skopt.plots import plot_objective\n",
    "from skopt.plots import plot_evaluations\n",
    "\n",
    "#사용자가 원하는 space, acq_func, dimmension 등 설정 가능\n",
    "opt = Optimizer([(-10.0,10.0),(-10.0,10.0)], \"GP\", acq_func='EI',\n",
    "                acq_optimizer=\"sampling\",initial_point_generator=\"lhs\",\n",
    "                n_initial_points=10)\n",
    "\n",
    "for i in range(30):\n",
    "    next_x = np.round(opt.ask(),1).tolist()\n",
    "    f_val = -np.round(objective(next_x[0],next_x[1]),6)\n",
    "    res = opt.tell(next_x, -f_val)\n",
    "\n",
    "from skopt.plots import plot_objective\n",
    "\n",
    "_ = plot_objective(res, n_samples = 40)\n",
    "\n",
    "from skopt.plots import plot_evaluations\n",
    "\n",
    "_ = plot_evaluations(res, bins=10)\n",
    "\n",
    "res"
   ]
  }
 ],
 "metadata": {
  "kernelspec": {
   "display_name": "Python 3.10.9 (myenv)",
   "language": "python",
   "name": "myenv"
  },
  "language_info": {
   "codemirror_mode": {
    "name": "ipython",
    "version": 3
   },
   "file_extension": ".py",
   "mimetype": "text/x-python",
   "name": "python",
   "nbconvert_exporter": "python",
   "pygments_lexer": "ipython3",
   "version": "3.10.13"
  }
 },
 "nbformat": 4,
 "nbformat_minor": 5
}
